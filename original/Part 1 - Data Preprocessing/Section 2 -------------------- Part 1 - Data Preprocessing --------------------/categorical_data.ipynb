{
  "cells": [
    {
      "cell_type": "markdown",
      "metadata": {
        "id": "KdUFcDsdzRyw"
      },
      "source": [
        "# Clonamos el repositorio para obtener los dataSet"
      ]
    },
    {
      "cell_type": "code",
      "execution_count": 18,
      "metadata": {
        "colab": {
          "base_uri": "https://localhost:8080/"
        },
        "id": "mHReFf3_y9ms",
        "outputId": "3c3a2ceb-1b31-49f5-dec0-38dca7d9dbf0"
      },
      "outputs": [
        {
          "output_type": "stream",
          "name": "stdout",
          "text": [
            "fatal: destination path 'machinelearning-az' already exists and is not an empty directory.\n"
          ]
        }
      ],
      "source": [
        "!git clone https://github.com/joanby/machinelearning-az.git"
      ]
    },
    {
      "cell_type": "markdown",
      "source": [],
      "metadata": {
        "id": "VnIXCXgRxSPF"
      }
    },
    {
      "cell_type": "markdown",
      "metadata": {
        "id": "vNKZXgtKzU2x"
      },
      "source": [
        "# Damos acceso a nuestro Drive"
      ]
    },
    {
      "cell_type": "code",
      "execution_count": 13,
      "metadata": {
        "colab": {
          "base_uri": "https://localhost:8080/"
        },
        "id": "5gu7KWnzzUQ0",
        "outputId": "46dc9cc1-7022-4f07-87cd-0288b549adfd"
      },
      "outputs": [
        {
          "output_type": "stream",
          "name": "stdout",
          "text": [
            "Drive already mounted at /content/drive; to attempt to forcibly remount, call drive.mount(\"/content/drive\", force_remount=True).\n"
          ]
        }
      ],
      "source": [
        "from google.colab import drive\n",
        "drive.mount('/content/drive')"
      ]
    },
    {
      "cell_type": "markdown",
      "metadata": {
        "id": "1gUxIkHWzfHV"
      },
      "source": [
        "# Test it"
      ]
    },
    {
      "cell_type": "code",
      "execution_count": 24,
      "metadata": {
        "colab": {
          "base_uri": "https://localhost:8080/"
        },
        "id": "mIQt3jBMzYRE",
        "outputId": "6450abdb-4c06-4b82-f476-b30e93d9e5fb",
        "collapsed": true
      },
      "outputs": [
        {
          "output_type": "stream",
          "name": "stdout",
          "text": [
            "'11 - MUESTREO DEL SUELO (1).gdoc'\n",
            "'11 - MUESTREO DEL SUELO.gdoc'\n",
            "'11- Repaso del 1° Cuatrimestre (1).gdoc'\n",
            "'11- Repaso del 1° Cuatrimestre.gdoc'\n",
            "'14 - Petróleo.gdoc'\n",
            "'1-unidad-i-entornos-y-funciones-audio-caracteristicas-de-una-funcion-funcio_(parte 2)j.mp4'\n",
            "'1- Unidad I-Entornos y Funciones ( audio)-Funciones-Dominio-Consjuntos carac-Transformaciones-Operac.mp4'\n",
            "'1- Unidad I-Entornos y Funciones ( audio)-Numeros Reales-Intervalos-Desigualdades -Entornos.mp4'\n",
            "'2 - DIAGNÓSTICO DE ELECTROQUÍMICA - 2° PARTE.gdoc'\n",
            "'3 - REDOX PARA ALUMNOS (1).gdoc'\n",
            "'3 - REDOX PARA ALUMNOS.gdoc'\n",
            "'5 - PILA DE DANIELS.gdoc'\n",
            "'5 - POTENCIALES DE ELECTRODO NORMAL Y FUERZA ELECTROMOTRIZ DE UNA PILA.gdoc'\n",
            " 73eb7f5f-b6e8-48dd-8e97-e814d33c9269.jpg\n",
            " 74844729-94c5-4c4d-9faf-8264a96896d7.jpg\n",
            "'Ablandamiento H2O.gdoc'\n",
            "'Actividada Número 7 - Becerra Joaquín.gdoc'\n",
            "'Actividad de Aprendizaje Nº6 - Becerra Joaquín.gdoc'\n",
            "'ACTIVIDAD  N° 4  MARCO JURÍDICO.gdoc'\n",
            "'Actividad Nº5 - Becerra Joaquín.gdoc'\n",
            "'Actividad Nº 5 TC - Becerra Joaquín.gdoc'\n",
            "'Actividad Nº6 TC - Becerra Joaquín.gdoc'\n",
            "'agitadores de turbina.docx'\n",
            " b005d411-232d-46b1-ab46-a49c4c8aaf54.jpg\n",
            " Backgrounds\n",
            "'BD - Laboratorio 2 Individual.gdoc'\n",
            "'Becerra Diaz, Joaquín Manuel_firmado.pdf'\n",
            " Biorremediación\n",
            "'Boleta de Energía.pdf'\n",
            "'Bonos de Sueldo Grupo Familiar.pdf'\n",
            "'Carmaland problemas servidor minecraft.gdoc'\n",
            "'Caso Bromatología.gslides'\n",
            "'Clase Virtual Nº1  - Becerra Joaquín.gdoc'\n",
            "'Clasificación e identificación de residuos.gdoc'\n",
            " Classroom\n",
            "'Colab Notebooks'\n",
            " content\n",
            "'Copia de Informe olimpiadas qca..pdf'\n",
            "'Copia de SO_Clase_GUIA N2_Procesos_2024-ALUMNOS'$'\\n''.pptx'\n",
            "'Cuadro de Géneros Literarios.gdoc'\n",
            "'Cuadro sinóptico TM.docx'\n",
            " CVjb.docx\n",
            "'DIAGNÓSTICO 2021 - Joaquín Becerra.docx'\n",
            "'Diagnóstico 2 MJ.gdoc'\n",
            "'DNI yo (1).pdf'\n",
            "'DNI yo.pdf'\n",
            "'Documentación - Instalación y Configuración de Motores.gdoc'\n",
            "'Documentación Joaquín Becerra - DNI 45721514 - LEGAJO 50799.pdf'\n",
            "'Documento sin título (10).gdoc'\n",
            "'Documento sin título (1).gdoc'\n",
            "'Documento sin título (2).gdoc'\n",
            "'Documento sin título (3).gdoc'\n",
            "'Documento sin título (4).gdoc'\n",
            "'Documento sin título (5).gdoc'\n",
            "'Documento sin título (6).gdoc'\n",
            "'Documento sin título (7).gdoc'\n",
            "'Documento sin título (8).gdoc'\n",
            "'Documento sin título (9).gdoc'\n",
            "'Documento sin título.gdoc'\n",
            " eb6cf4a5-6c41-43d4-bae8-2953b319ad10.jpg\n",
            "'EJ 3 y 4 TP Ing y Soc.gdoc'\n",
            "'Escaneo Digital DNI.pdf'\n",
            "'Escuelas psicología .gdoc'\n",
            "'Estrcuturas cristalinas.docx'\n",
            " ETAs.gdoc\n",
            "'Exposición Ing. y Soc..gdoc'\n",
            " Facultad\n",
            "'FEyC Actividad 1 - Becerra, Joaquín.gdoc'\n",
            "'FEyC Guía Nº 2 - Becerra, Joaquín.gdoc'\n",
            "'Formulario sin título.gform'\n",
            " Fotulis.gslides\n",
            "'Funciones Racionales, Joaquín Becerra.pdf'\n",
            "'Hidrólisis de sales ejercicios.gdoc'\n",
            "'Hidrólisis de sales (teoría) (1).gdoc'\n",
            "'Hidrólisis de sales (teoría).gdoc'\n",
            "'Hoja de cálculo sin título.gsheet'\n",
            " Imágenes\n",
            "'Informe de Técnicas Físico-Químicas - Becerra Joaquín, 5º 5º.gdoc'\n",
            "'Informe dureza de agua.gdoc'\n",
            "'Introducción a la Electroquímica - Carello, Becerra.gdoc'\n",
            "'Laboratorio 6.gdoc'\n",
            "'Libros Arq'\n",
            "'Lluvia Ácida.gdoc'\n",
            "'Marco Jurídico.gdoc'\n",
            "'mermelada de durazno.docx'\n",
            "'MUESTREO DEL SUELO, MONTES, MUÑOZ y BECERRA.gdoc'\n",
            " OptiFine_1.16.5_HD_U_G8.jar\n",
            "'Op. Uni. TRABAJO PRÁCTICO N° 4 - Becerra, Joaquín.gdoc'\n",
            "'Op. Uni. TRABAJO PRÁCTICO N° 4 - Becerra, Joaquín.pdf'\n",
            "'Péptidos - Becerra, Joaquín.gdoc'\n",
            "'Pila Daniell - Becerra, Joaquín 5º5º.gdoc'\n",
            " Plan-2023-ISI-Regimen-de-Correlatividades-Ord.-1878.pdf\n",
            "'Práctica de Sistemas Operativos.gdoc'\n",
            "'PRÁCTICAS PROFESIONALIZANTES.gdoc'\n",
            "'Preguntas sobre el caso TP1.gdoc'\n",
            "'Presentación sin título (1).gslides'\n",
            "'Presentación sin título (2).gslides'\n",
            "'Presentación sin título.gslides'\n",
            "'Problema de comunicación - Becerra Joaquín.gdoc'\n",
            "'Problema de comunicación en el grupo - Becerra Joaquín .gdoc'\n",
            "'Procesos productivos GUÍA 1 - Becerra, Joaquín.pdf'\n",
            "'Proyecto PP.gdoc'\n",
            "'Psicología Laboral.gdoc'\n",
            "'PSICOLOGÍA LABORAL.gdoc'\n",
            " readme.gdoc\n",
            "'Reproducción de los hongos.gdoc'\n",
            "'Resaltado de ideas principales - Becerra, Gonzalez, Muñoz.gdoc'\n",
            "'Resaltado de ideas principales - Becerra, Gonzalez, Muñoz.pdf'\n",
            "'Responsabilidad Social Empresarial.gdoc'\n",
            "'Resumen Unidad 3 FII.gdoc'\n",
            "'Seguridad e Higiene.docx'\n",
            "'Smartphone: minerales que lo componen.gdoc'\n",
            "'Smog (sin terminar).gdoc'\n",
            " SO.gsheet\n",
            "'Soluciones Minecraft Redes Pollo.gdoc'\n",
            "'Tarea de diagrama.docx'\n",
            "'T.D.M 1.docx'\n",
            "'T.D.M 2.docx'\n",
            "'T.D.M 3.docx'\n",
            "\"Teacher's Pet.gdoc\"\n",
            "'Teoría del apego.gdoc'\n",
            "'TP2 Bromatolgía - Becerra Joaquín.gdoc'\n",
            "'TP 3 - SyPN.gdoc'\n",
            "'TRABAJO PRÁCTICO - BARRERAS Y AXIOMAS.gdoc'\n",
            "'TRABAJO PRÁCTICO N° 3 - Bromatología.gdoc'\n",
            " tssssss\n",
            "'Unidad Didactica V Tecnicas de muestreo.gdoc'\n",
            " Untitled0.ipynb\n",
            " uva.docx\n",
            "'version (1).gdoc'\n",
            " version.gdoc\n",
            "'Vidrio y H2SO4.gdoc'\n"
          ]
        }
      ],
      "source": [
        "!ls '/content/drive/My Drive'"
      ]
    },
    {
      "cell_type": "markdown",
      "metadata": {
        "id": "mHsK36uN0XB-"
      },
      "source": [
        "# Google colab tools"
      ]
    },
    {
      "cell_type": "code",
      "execution_count": 15,
      "metadata": {
        "id": "kTzwfUPWzrm4"
      },
      "outputs": [],
      "source": [
        "from google.colab import files # Para manejar los archivos y, por ejemplo, exportar a su navegador\n",
        "import glob # Para manejar los archivos y, por ejemplo, exportar a su navegador\n",
        "from google.colab import drive # Montar tu Google drive"
      ]
    },
    {
      "cell_type": "markdown",
      "metadata": {
        "id": "3yFpBwmNz70v"
      },
      "source": [
        "# Plantilla de Pre Procesado - Datos Categóricos\n"
      ]
    },
    {
      "cell_type": "markdown",
      "metadata": {
        "id": "v8OxSXXSz-OP"
      },
      "source": [
        "# Cómo importar las librerías\n"
      ]
    },
    {
      "cell_type": "code",
      "execution_count": 16,
      "metadata": {
        "id": "edZX51YLzs59"
      },
      "outputs": [],
      "source": [
        "import numpy as np\n",
        "import matplotlib.pyplot as plt\n",
        "import pandas as pd"
      ]
    },
    {
      "cell_type": "markdown",
      "metadata": {
        "id": "8XfXlqtF0B58"
      },
      "source": [
        "# Importar el data set\n"
      ]
    },
    {
      "cell_type": "code",
      "execution_count": 23,
      "metadata": {
        "colab": {
          "base_uri": "https://localhost:8080/",
          "height": 321
        },
        "id": "-nnozsHsz_-N",
        "outputId": "0aa641f9-3057-4ae4-f855-480fb735b3ef"
      },
      "outputs": [
        {
          "output_type": "error",
          "ename": "FileNotFoundError",
          "evalue": "[Errno 2] No such file or directory: '/content/Part 1 - Data Preprocessing/Section 2 -------------------- Part 1 - Data Preprocessing --------------------/Data.csv'",
          "traceback": [
            "\u001b[0;31m---------------------------------------------------------------------------\u001b[0m",
            "\u001b[0;31mFileNotFoundError\u001b[0m                         Traceback (most recent call last)",
            "\u001b[0;32m<ipython-input-23-e7c8dc1d3672>\u001b[0m in \u001b[0;36m<cell line: 0>\u001b[0;34m()\u001b[0m\n\u001b[0;32m----> 1\u001b[0;31m \u001b[0mdataset\u001b[0m \u001b[0;34m=\u001b[0m \u001b[0mpd\u001b[0m\u001b[0;34m.\u001b[0m\u001b[0mread_csv\u001b[0m\u001b[0;34m(\u001b[0m\u001b[0;34m'/content/Part 1 - Data Preprocessing/Section 2 -------------------- Part 1 - Data Preprocessing --------------------/Data.csv'\u001b[0m\u001b[0;34m)\u001b[0m\u001b[0;34m\u001b[0m\u001b[0;34m\u001b[0m\u001b[0m\n\u001b[0m\u001b[1;32m      2\u001b[0m \u001b[0mX\u001b[0m \u001b[0;34m=\u001b[0m \u001b[0mdataset\u001b[0m\u001b[0;34m.\u001b[0m\u001b[0miloc\u001b[0m\u001b[0;34m[\u001b[0m\u001b[0;34m:\u001b[0m\u001b[0;34m,\u001b[0m \u001b[0;34m:\u001b[0m\u001b[0;34m-\u001b[0m\u001b[0;36m1\u001b[0m\u001b[0;34m]\u001b[0m\u001b[0;34m.\u001b[0m\u001b[0mvalues\u001b[0m\u001b[0;34m\u001b[0m\u001b[0;34m\u001b[0m\u001b[0m\n\u001b[1;32m      3\u001b[0m \u001b[0my\u001b[0m \u001b[0;34m=\u001b[0m \u001b[0mdataset\u001b[0m\u001b[0;34m.\u001b[0m\u001b[0miloc\u001b[0m\u001b[0;34m[\u001b[0m\u001b[0;34m:\u001b[0m\u001b[0;34m,\u001b[0m \u001b[0;36m3\u001b[0m\u001b[0;34m]\u001b[0m\u001b[0;34m.\u001b[0m\u001b[0mvalues\u001b[0m\u001b[0;34m\u001b[0m\u001b[0;34m\u001b[0m\u001b[0m\n",
            "\u001b[0;32m/usr/local/lib/python3.11/dist-packages/pandas/io/parsers/readers.py\u001b[0m in \u001b[0;36mread_csv\u001b[0;34m(filepath_or_buffer, sep, delimiter, header, names, index_col, usecols, dtype, engine, converters, true_values, false_values, skipinitialspace, skiprows, skipfooter, nrows, na_values, keep_default_na, na_filter, verbose, skip_blank_lines, parse_dates, infer_datetime_format, keep_date_col, date_parser, date_format, dayfirst, cache_dates, iterator, chunksize, compression, thousands, decimal, lineterminator, quotechar, quoting, doublequote, escapechar, comment, encoding, encoding_errors, dialect, on_bad_lines, delim_whitespace, low_memory, memory_map, float_precision, storage_options, dtype_backend)\u001b[0m\n\u001b[1;32m   1024\u001b[0m     \u001b[0mkwds\u001b[0m\u001b[0;34m.\u001b[0m\u001b[0mupdate\u001b[0m\u001b[0;34m(\u001b[0m\u001b[0mkwds_defaults\u001b[0m\u001b[0;34m)\u001b[0m\u001b[0;34m\u001b[0m\u001b[0;34m\u001b[0m\u001b[0m\n\u001b[1;32m   1025\u001b[0m \u001b[0;34m\u001b[0m\u001b[0m\n\u001b[0;32m-> 1026\u001b[0;31m     \u001b[0;32mreturn\u001b[0m \u001b[0m_read\u001b[0m\u001b[0;34m(\u001b[0m\u001b[0mfilepath_or_buffer\u001b[0m\u001b[0;34m,\u001b[0m \u001b[0mkwds\u001b[0m\u001b[0;34m)\u001b[0m\u001b[0;34m\u001b[0m\u001b[0;34m\u001b[0m\u001b[0m\n\u001b[0m\u001b[1;32m   1027\u001b[0m \u001b[0;34m\u001b[0m\u001b[0m\n\u001b[1;32m   1028\u001b[0m \u001b[0;34m\u001b[0m\u001b[0m\n",
            "\u001b[0;32m/usr/local/lib/python3.11/dist-packages/pandas/io/parsers/readers.py\u001b[0m in \u001b[0;36m_read\u001b[0;34m(filepath_or_buffer, kwds)\u001b[0m\n\u001b[1;32m    618\u001b[0m \u001b[0;34m\u001b[0m\u001b[0m\n\u001b[1;32m    619\u001b[0m     \u001b[0;31m# Create the parser.\u001b[0m\u001b[0;34m\u001b[0m\u001b[0;34m\u001b[0m\u001b[0m\n\u001b[0;32m--> 620\u001b[0;31m     \u001b[0mparser\u001b[0m \u001b[0;34m=\u001b[0m \u001b[0mTextFileReader\u001b[0m\u001b[0;34m(\u001b[0m\u001b[0mfilepath_or_buffer\u001b[0m\u001b[0;34m,\u001b[0m \u001b[0;34m**\u001b[0m\u001b[0mkwds\u001b[0m\u001b[0;34m)\u001b[0m\u001b[0;34m\u001b[0m\u001b[0;34m\u001b[0m\u001b[0m\n\u001b[0m\u001b[1;32m    621\u001b[0m \u001b[0;34m\u001b[0m\u001b[0m\n\u001b[1;32m    622\u001b[0m     \u001b[0;32mif\u001b[0m \u001b[0mchunksize\u001b[0m \u001b[0;32mor\u001b[0m \u001b[0miterator\u001b[0m\u001b[0;34m:\u001b[0m\u001b[0;34m\u001b[0m\u001b[0;34m\u001b[0m\u001b[0m\n",
            "\u001b[0;32m/usr/local/lib/python3.11/dist-packages/pandas/io/parsers/readers.py\u001b[0m in \u001b[0;36m__init__\u001b[0;34m(self, f, engine, **kwds)\u001b[0m\n\u001b[1;32m   1618\u001b[0m \u001b[0;34m\u001b[0m\u001b[0m\n\u001b[1;32m   1619\u001b[0m         \u001b[0mself\u001b[0m\u001b[0;34m.\u001b[0m\u001b[0mhandles\u001b[0m\u001b[0;34m:\u001b[0m \u001b[0mIOHandles\u001b[0m \u001b[0;34m|\u001b[0m \u001b[0;32mNone\u001b[0m \u001b[0;34m=\u001b[0m \u001b[0;32mNone\u001b[0m\u001b[0;34m\u001b[0m\u001b[0;34m\u001b[0m\u001b[0m\n\u001b[0;32m-> 1620\u001b[0;31m         \u001b[0mself\u001b[0m\u001b[0;34m.\u001b[0m\u001b[0m_engine\u001b[0m \u001b[0;34m=\u001b[0m \u001b[0mself\u001b[0m\u001b[0;34m.\u001b[0m\u001b[0m_make_engine\u001b[0m\u001b[0;34m(\u001b[0m\u001b[0mf\u001b[0m\u001b[0;34m,\u001b[0m \u001b[0mself\u001b[0m\u001b[0;34m.\u001b[0m\u001b[0mengine\u001b[0m\u001b[0;34m)\u001b[0m\u001b[0;34m\u001b[0m\u001b[0;34m\u001b[0m\u001b[0m\n\u001b[0m\u001b[1;32m   1621\u001b[0m \u001b[0;34m\u001b[0m\u001b[0m\n\u001b[1;32m   1622\u001b[0m     \u001b[0;32mdef\u001b[0m \u001b[0mclose\u001b[0m\u001b[0;34m(\u001b[0m\u001b[0mself\u001b[0m\u001b[0;34m)\u001b[0m \u001b[0;34m->\u001b[0m \u001b[0;32mNone\u001b[0m\u001b[0;34m:\u001b[0m\u001b[0;34m\u001b[0m\u001b[0;34m\u001b[0m\u001b[0m\n",
            "\u001b[0;32m/usr/local/lib/python3.11/dist-packages/pandas/io/parsers/readers.py\u001b[0m in \u001b[0;36m_make_engine\u001b[0;34m(self, f, engine)\u001b[0m\n\u001b[1;32m   1878\u001b[0m                 \u001b[0;32mif\u001b[0m \u001b[0;34m\"b\"\u001b[0m \u001b[0;32mnot\u001b[0m \u001b[0;32min\u001b[0m \u001b[0mmode\u001b[0m\u001b[0;34m:\u001b[0m\u001b[0;34m\u001b[0m\u001b[0;34m\u001b[0m\u001b[0m\n\u001b[1;32m   1879\u001b[0m                     \u001b[0mmode\u001b[0m \u001b[0;34m+=\u001b[0m \u001b[0;34m\"b\"\u001b[0m\u001b[0;34m\u001b[0m\u001b[0;34m\u001b[0m\u001b[0m\n\u001b[0;32m-> 1880\u001b[0;31m             self.handles = get_handle(\n\u001b[0m\u001b[1;32m   1881\u001b[0m                 \u001b[0mf\u001b[0m\u001b[0;34m,\u001b[0m\u001b[0;34m\u001b[0m\u001b[0;34m\u001b[0m\u001b[0m\n\u001b[1;32m   1882\u001b[0m                 \u001b[0mmode\u001b[0m\u001b[0;34m,\u001b[0m\u001b[0;34m\u001b[0m\u001b[0;34m\u001b[0m\u001b[0m\n",
            "\u001b[0;32m/usr/local/lib/python3.11/dist-packages/pandas/io/common.py\u001b[0m in \u001b[0;36mget_handle\u001b[0;34m(path_or_buf, mode, encoding, compression, memory_map, is_text, errors, storage_options)\u001b[0m\n\u001b[1;32m    871\u001b[0m         \u001b[0;32mif\u001b[0m \u001b[0mioargs\u001b[0m\u001b[0;34m.\u001b[0m\u001b[0mencoding\u001b[0m \u001b[0;32mand\u001b[0m \u001b[0;34m\"b\"\u001b[0m \u001b[0;32mnot\u001b[0m \u001b[0;32min\u001b[0m \u001b[0mioargs\u001b[0m\u001b[0;34m.\u001b[0m\u001b[0mmode\u001b[0m\u001b[0;34m:\u001b[0m\u001b[0;34m\u001b[0m\u001b[0;34m\u001b[0m\u001b[0m\n\u001b[1;32m    872\u001b[0m             \u001b[0;31m# Encoding\u001b[0m\u001b[0;34m\u001b[0m\u001b[0;34m\u001b[0m\u001b[0m\n\u001b[0;32m--> 873\u001b[0;31m             handle = open(\n\u001b[0m\u001b[1;32m    874\u001b[0m                 \u001b[0mhandle\u001b[0m\u001b[0;34m,\u001b[0m\u001b[0;34m\u001b[0m\u001b[0;34m\u001b[0m\u001b[0m\n\u001b[1;32m    875\u001b[0m                 \u001b[0mioargs\u001b[0m\u001b[0;34m.\u001b[0m\u001b[0mmode\u001b[0m\u001b[0;34m,\u001b[0m\u001b[0;34m\u001b[0m\u001b[0;34m\u001b[0m\u001b[0m\n",
            "\u001b[0;31mFileNotFoundError\u001b[0m: [Errno 2] No such file or directory: '/content/Part 1 - Data Preprocessing/Section 2 -------------------- Part 1 - Data Preprocessing --------------------/Data.csv'"
          ]
        }
      ],
      "source": [
        "dataset = pd.read_csv('/content/machinelearning-az/datasets/Part 1 - Data Preprocessing/Section 2 -------------------- Part 1 - Data Preprocessing --------------------/Data.csv')\n",
        "X = dataset.iloc[:, :-1].values\n",
        "y = dataset.iloc[:, 3].values\n"
      ]
    },
    {
      "cell_type": "markdown",
      "metadata": {
        "id": "x8PABYut0i7y"
      },
      "source": [
        "# Codificar datos categóricos"
      ]
    },
    {
      "cell_type": "code",
      "execution_count": null,
      "metadata": {
        "id": "oPVZUP870DoR"
      },
      "outputs": [],
      "source": [
        "from sklearn.preprocessing import LabelEncoder, OneHotEncoder\n",
        "from sklearn.compose import ColumnTransformer"
      ]
    },
    {
      "cell_type": "code",
      "execution_count": null,
      "metadata": {
        "id": "3lajo7ye0lEs"
      },
      "outputs": [],
      "source": [
        "labelencoder_X = LabelEncoder()\n",
        "X[:, 0] = labelencoder_X.fit_transform(X[:, 0])"
      ]
    },
    {
      "cell_type": "code",
      "execution_count": null,
      "metadata": {
        "id": "BQ-MnRSO0md2"
      },
      "outputs": [],
      "source": [
        "ct = ColumnTransformer(\n",
        "    [('one_hot_encoder', OneHotEncoder(categories='auto'), [0])],    # The column numbers to be transformed (here is [0] but can be [0, 1, 3])\n",
        "    remainder='passthrough'                         # Leave the rest of the columns untouched\n",
        ")"
      ]
    },
    {
      "cell_type": "markdown",
      "metadata": {
        "id": "HSvLo8r30psf"
      },
      "source": [
        "#onehotencoder = OneHotEncoder(categorical_features=[0])\n",
        "#X = onehotencoder.fit_transform(X).toarray()"
      ]
    },
    {
      "cell_type": "code",
      "execution_count": null,
      "metadata": {
        "id": "kt9uD3hE0nxd"
      },
      "outputs": [],
      "source": [
        "X = np.array(ct.fit_transform(X), dtype=np.float)\n",
        "labelencoder_y = LabelEncoder()\n",
        "y = labelencoder_y.fit_transform(y)"
      ]
    },
    {
      "cell_type": "code",
      "execution_count": null,
      "metadata": {
        "id": "S-Eb4Y9M0uS1"
      },
      "outputs": [],
      "source": [
        "print(X.shape)"
      ]
    },
    {
      "cell_type": "code",
      "execution_count": null,
      "metadata": {
        "id": "vwx3Dzmz0wRg"
      },
      "outputs": [],
      "source": [
        "print(y)"
      ]
    },
    {
      "cell_type": "code",
      "execution_count": null,
      "metadata": {
        "id": "lILzSQnW0x8V"
      },
      "outputs": [],
      "source": [
        "result = pd.DataFrame({'Column1': X[:, 0], 'Column2': X[:, 1],'Column3': X[:, 2], 'Age': X[:, 3],'Salary': X[:, 4],'Purchased': y[:]})\n",
        "display(result)"
      ]
    }
  ],
  "metadata": {
    "colab": {
      "name": "categorical_data.ipynb",
      "provenance": [],
      "toc_visible": true
    },
    "kernelspec": {
      "display_name": "Python 3",
      "language": "python",
      "name": "python3"
    },
    "language_info": {
      "codemirror_mode": {
        "name": "ipython",
        "version": 3
      },
      "file_extension": ".py",
      "mimetype": "text/x-python",
      "name": "python",
      "nbconvert_exporter": "python",
      "pygments_lexer": "ipython3",
      "version": "3.8.3"
    }
  },
  "nbformat": 4,
  "nbformat_minor": 0
}